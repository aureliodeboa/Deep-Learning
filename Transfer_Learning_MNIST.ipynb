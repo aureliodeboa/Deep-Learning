{
  "cells": [
    {
      "cell_type": "markdown",
      "metadata": {
        "id": "view-in-github",
        "colab_type": "text"
      },
      "source": [
        "<a href=\"https://colab.research.google.com/github/aureliodeboa/Deep-Learning/blob/main/Transfer_Learning_MNIST.ipynb\" target=\"_parent\"><img src=\"https://colab.research.google.com/assets/colab-badge.svg\" alt=\"Open In Colab\"/></a>"
      ]
    },
    {
      "cell_type": "markdown",
      "metadata": {
        "id": "k0LSygkOSN9d"
      },
      "source": [
        "## Transfer Learning using MNIST data\n",
        "To illustrate the power and concept of transfer learning, we will train a CNN on just the digits 5,6,7,8,9.  Then we will train just the last layer(s) of the network on the digits 0,1,2,3,4 and see how well the features learned on 5-9 help with classifying 0-4.\n",
        "\n",
        "Adapted from https://github.com/fchollet/keras/blob/master/examples/mnist_transfer_cnn.py"
      ]
    },
    {
      "cell_type": "code",
      "execution_count": 1,
      "metadata": {
        "id": "TOnWenKxSN9j"
      },
      "outputs": [],
      "source": [
        "from __future__ import print_function\n",
        "\n",
        "import datetime\n",
        "import keras\n",
        "from keras.datasets import mnist\n",
        "from keras.models import Sequential\n",
        "from keras.layers import Dense, Dropout, Activation, Flatten\n",
        "from keras.layers import Conv2D, MaxPooling2D\n",
        "from keras import backend as K"
      ]
    },
    {
      "cell_type": "code",
      "execution_count": 2,
      "metadata": {
        "collapsed": true,
        "id": "drBML_O_SN9m"
      },
      "outputs": [],
      "source": [
        "#used to help some of the timing functions\n",
        "now = datetime.datetime.now"
      ]
    },
    {
      "cell_type": "code",
      "execution_count": 3,
      "metadata": {
        "collapsed": true,
        "id": "c2Tf88QgSN9n"
      },
      "outputs": [],
      "source": [
        "# set some parameters\n",
        "batch_size = 128\n",
        "num_classes = 5\n",
        "epochs = 5"
      ]
    },
    {
      "cell_type": "code",
      "execution_count": 4,
      "metadata": {
        "collapsed": true,
        "id": "GOZSJk_pSN9o"
      },
      "outputs": [],
      "source": [
        "# set some more parameters\n",
        "img_rows, img_cols = 28, 28\n",
        "filters = 32\n",
        "pool_size = 2\n",
        "kernel_size = 3"
      ]
    },
    {
      "cell_type": "code",
      "execution_count": 5,
      "metadata": {
        "collapsed": true,
        "id": "KTW3Yhn0SN9o"
      },
      "outputs": [],
      "source": [
        "## This just handles some variability in how the input data is loaded\n",
        "\n",
        "if K.image_data_format() == 'channels_first':\n",
        "    input_shape = (1, img_rows, img_cols)\n",
        "else:\n",
        "    input_shape = (img_rows, img_cols, 1)"
      ]
    },
    {
      "cell_type": "code",
      "execution_count": 6,
      "metadata": {
        "collapsed": true,
        "id": "KH7XXNLhSN9p"
      },
      "outputs": [],
      "source": [
        "## To simplify things, write a function to include all the training steps\n",
        "## As input, function takes a model, training set, test set, and the number of classes\n",
        "## Inside the model object will be the state about which layers we are freezing and which we are training\n",
        "\n",
        "def train_model(model, train, test, num_classes):\n",
        "    x_train = train[0].reshape((train[0].shape[0],) + input_shape)\n",
        "    x_test = test[0].reshape((test[0].shape[0],) + input_shape)\n",
        "    x_train = x_train.astype('float32')\n",
        "    x_test = x_test.astype('float32')\n",
        "    x_train /= 255\n",
        "    x_test /= 255\n",
        "    print('x_train shape:', x_train.shape)\n",
        "    print(x_train.shape[0], 'train samples')\n",
        "    print(x_test.shape[0], 'test samples')\n",
        "\n",
        "    # convert class vectors to binary class matrices\n",
        "    y_train = keras.utils.to_categorical(train[1], num_classes)\n",
        "    y_test = keras.utils.to_categorical(test[1], num_classes)\n",
        "\n",
        "    model.compile(loss='categorical_crossentropy',\n",
        "                  optimizer='adadelta',\n",
        "                  metrics=['accuracy'])\n",
        "\n",
        "    t = now()\n",
        "    model.fit(x_train, y_train,\n",
        "              batch_size=batch_size,\n",
        "              epochs=epochs,\n",
        "              verbose=1,\n",
        "              validation_data=(x_test, y_test))\n",
        "    print('Training time: %s' % (now() - t))\n",
        "\n",
        "    score = model.evaluate(x_test, y_test, verbose=0)\n",
        "    print('Test score:', score[0])\n",
        "    print('Test accuracy:', score[1])"
      ]
    },
    {
      "cell_type": "code",
      "execution_count": 7,
      "metadata": {
        "id": "IFkAN8YjSN9q",
        "outputId": "683b4fd4-f771-47ab-f179-31d8ceded34f",
        "colab": {
          "base_uri": "https://localhost:8080/"
        }
      },
      "outputs": [
        {
          "output_type": "stream",
          "name": "stdout",
          "text": [
            "Downloading data from https://storage.googleapis.com/tensorflow/tf-keras-datasets/mnist.npz\n",
            "11490434/11490434 [==============================] - 0s 0us/step\n"
          ]
        }
      ],
      "source": [
        "# the data, shuffled and split between train and test sets\n",
        "(x_train, y_train), (x_test, y_test) = mnist.load_data()\n",
        "\n",
        "# create two datasets: one with digits below 5 and one with 5 and above\n",
        "x_train_lt5 = x_train[y_train < 5]\n",
        "y_train_lt5 = y_train[y_train < 5]\n",
        "x_test_lt5 = x_test[y_test < 5]\n",
        "y_test_lt5 = y_test[y_test < 5]\n",
        "\n",
        "x_train_gte5 = x_train[y_train >= 5]\n",
        "y_train_gte5 = y_train[y_train >= 5] - 5\n",
        "x_test_gte5 = x_test[y_test >= 5]\n",
        "y_test_gte5 = y_test[y_test >= 5] - 5"
      ]
    },
    {
      "cell_type": "code",
      "execution_count": 8,
      "metadata": {
        "collapsed": true,
        "id": "F48majBySN9r"
      },
      "outputs": [],
      "source": [
        "# Define the \"feature\" layers.  These are the early layers that we expect will \"transfer\"\n",
        "# to a new problem.  We will freeze these layers during the fine-tuning process\n",
        "\n",
        "feature_layers = [\n",
        "    Conv2D(filters, kernel_size,\n",
        "           padding='valid',\n",
        "           input_shape=input_shape),\n",
        "    Activation('relu'),\n",
        "    Conv2D(filters, kernel_size),\n",
        "    Activation('relu'),\n",
        "    MaxPooling2D(pool_size=pool_size),\n",
        "    Dropout(0.25),\n",
        "    Flatten(),\n",
        "]"
      ]
    },
    {
      "cell_type": "code",
      "execution_count": 9,
      "metadata": {
        "collapsed": true,
        "id": "nUmVd5NMSN9s"
      },
      "outputs": [],
      "source": [
        "# Define the \"classification\" layers.  These are the later layers that predict the specific classes from the features\n",
        "# learned by the feature layers.  This is the part of the model that needs to be re-trained for a new problem\n",
        "\n",
        "classification_layers = [\n",
        "    Dense(128),\n",
        "    Activation('relu'),\n",
        "    Dropout(0.5),\n",
        "    Dense(num_classes),\n",
        "    Activation('softmax')\n",
        "]"
      ]
    },
    {
      "cell_type": "code",
      "execution_count": 10,
      "metadata": {
        "collapsed": true,
        "id": "JPD3exb5SN9s"
      },
      "outputs": [],
      "source": [
        "# We create our model by combining the two sets of layers as follows\n",
        "model = Sequential(feature_layers + classification_layers)"
      ]
    },
    {
      "cell_type": "code",
      "execution_count": 11,
      "metadata": {
        "id": "fVPBQYpTSN9t",
        "outputId": "440f9f14-a800-4708-e36f-23c7518400cb",
        "colab": {
          "base_uri": "https://localhost:8080/"
        }
      },
      "outputs": [
        {
          "output_type": "stream",
          "name": "stdout",
          "text": [
            "Model: \"sequential\"\n",
            "_________________________________________________________________\n",
            " Layer (type)                Output Shape              Param #   \n",
            "=================================================================\n",
            " conv2d (Conv2D)             (None, 26, 26, 32)        320       \n",
            "                                                                 \n",
            " activation (Activation)     (None, 26, 26, 32)        0         \n",
            "                                                                 \n",
            " conv2d_1 (Conv2D)           (None, 24, 24, 32)        9248      \n",
            "                                                                 \n",
            " activation_1 (Activation)   (None, 24, 24, 32)        0         \n",
            "                                                                 \n",
            " max_pooling2d (MaxPooling2  (None, 12, 12, 32)        0         \n",
            " D)                                                              \n",
            "                                                                 \n",
            " dropout (Dropout)           (None, 12, 12, 32)        0         \n",
            "                                                                 \n",
            " flatten (Flatten)           (None, 4608)              0         \n",
            "                                                                 \n",
            " dense (Dense)               (None, 128)               589952    \n",
            "                                                                 \n",
            " activation_2 (Activation)   (None, 128)               0         \n",
            "                                                                 \n",
            " dropout_1 (Dropout)         (None, 128)               0         \n",
            "                                                                 \n",
            " dense_1 (Dense)             (None, 5)                 645       \n",
            "                                                                 \n",
            " activation_3 (Activation)   (None, 5)                 0         \n",
            "                                                                 \n",
            "=================================================================\n",
            "Total params: 600165 (2.29 MB)\n",
            "Trainable params: 600165 (2.29 MB)\n",
            "Non-trainable params: 0 (0.00 Byte)\n",
            "_________________________________________________________________\n"
          ]
        }
      ],
      "source": [
        "# Let's take a look\n",
        "model.summary()"
      ]
    },
    {
      "cell_type": "code",
      "execution_count": 12,
      "metadata": {
        "id": "uU_j5AGYSN9t",
        "outputId": "ce48e098-c5ff-4b22-b8c8-01fde3f3e7b8",
        "colab": {
          "base_uri": "https://localhost:8080/"
        }
      },
      "outputs": [
        {
          "output_type": "stream",
          "name": "stdout",
          "text": [
            "x_train shape: (29404, 28, 28, 1)\n",
            "29404 train samples\n",
            "4861 test samples\n",
            "Epoch 1/5\n",
            "230/230 [==============================] - 14s 11ms/step - loss: 1.6090 - accuracy: 0.2105 - val_loss: 1.5931 - val_accuracy: 0.2938\n",
            "Epoch 2/5\n",
            "230/230 [==============================] - 2s 7ms/step - loss: 1.5835 - accuracy: 0.2734 - val_loss: 1.5648 - val_accuracy: 0.4571\n",
            "Epoch 3/5\n",
            "230/230 [==============================] - 2s 7ms/step - loss: 1.5586 - accuracy: 0.3458 - val_loss: 1.5342 - val_accuracy: 0.6091\n",
            "Epoch 4/5\n",
            "230/230 [==============================] - 2s 7ms/step - loss: 1.5290 - accuracy: 0.4168 - val_loss: 1.5006 - val_accuracy: 0.6997\n",
            "Epoch 5/5\n",
            "230/230 [==============================] - 2s 7ms/step - loss: 1.4979 - accuracy: 0.4770 - val_loss: 1.4630 - val_accuracy: 0.7406\n",
            "Training time: 0:00:21.502242\n",
            "Test score: 1.4629862308502197\n",
            "Test accuracy: 0.740588366985321\n"
          ]
        }
      ],
      "source": [
        "# Now, let's train our model on the digits 5,6,7,8,9\n",
        "\n",
        "train_model(model,\n",
        "            (x_train_gte5, y_train_gte5),\n",
        "            (x_test_gte5, y_test_gte5), num_classes)"
      ]
    },
    {
      "cell_type": "markdown",
      "metadata": {
        "id": "oV97XUrSSN9u"
      },
      "source": [
        "### Freezing Layers\n",
        "Keras allows layers to be \"frozen\" during the training process.  That is, some layers would have their weights updated during the training process, while others would not.  This is a core part of transfer learning, the ability to train just the last one or several layers.\n",
        "\n",
        "Note also, that a lot of the training time is spent \"back-propagating\" the gradients back to the first layer.  Therefore, if we only need to compute the gradients back a small number of layers, the training time is much quicker per iteration.  This is in addition to the savings gained by being able to train on a smaller data set."
      ]
    },
    {
      "cell_type": "code",
      "execution_count": 13,
      "metadata": {
        "collapsed": true,
        "id": "wSIRI11RSN9u"
      },
      "outputs": [],
      "source": [
        "# Freeze only the\n",
        "for l in feature_layers:\n",
        "    l.trainable = False"
      ]
    },
    {
      "cell_type": "markdown",
      "metadata": {
        "id": "qAlJeMIGSN9u"
      },
      "source": [
        "Observe below the differences between the number of *total params*, *trainable params*, and *non-trainable params*."
      ]
    },
    {
      "cell_type": "code",
      "execution_count": 14,
      "metadata": {
        "id": "FAss62awSN9v",
        "outputId": "b6933621-edd3-4f5d-c423-30d3cc5e1b05",
        "colab": {
          "base_uri": "https://localhost:8080/"
        }
      },
      "outputs": [
        {
          "output_type": "stream",
          "name": "stdout",
          "text": [
            "Model: \"sequential\"\n",
            "_________________________________________________________________\n",
            " Layer (type)                Output Shape              Param #   \n",
            "=================================================================\n",
            " conv2d (Conv2D)             (None, 26, 26, 32)        320       \n",
            "                                                                 \n",
            " activation (Activation)     (None, 26, 26, 32)        0         \n",
            "                                                                 \n",
            " conv2d_1 (Conv2D)           (None, 24, 24, 32)        9248      \n",
            "                                                                 \n",
            " activation_1 (Activation)   (None, 24, 24, 32)        0         \n",
            "                                                                 \n",
            " max_pooling2d (MaxPooling2  (None, 12, 12, 32)        0         \n",
            " D)                                                              \n",
            "                                                                 \n",
            " dropout (Dropout)           (None, 12, 12, 32)        0         \n",
            "                                                                 \n",
            " flatten (Flatten)           (None, 4608)              0         \n",
            "                                                                 \n",
            " dense (Dense)               (None, 128)               589952    \n",
            "                                                                 \n",
            " activation_2 (Activation)   (None, 128)               0         \n",
            "                                                                 \n",
            " dropout_1 (Dropout)         (None, 128)               0         \n",
            "                                                                 \n",
            " dense_1 (Dense)             (None, 5)                 645       \n",
            "                                                                 \n",
            " activation_3 (Activation)   (None, 5)                 0         \n",
            "                                                                 \n",
            "=================================================================\n",
            "Total params: 600165 (2.29 MB)\n",
            "Trainable params: 590597 (2.25 MB)\n",
            "Non-trainable params: 9568 (37.38 KB)\n",
            "_________________________________________________________________\n"
          ]
        }
      ],
      "source": [
        "model.summary()"
      ]
    },
    {
      "cell_type": "code",
      "execution_count": 15,
      "metadata": {
        "id": "fUJyGtlXSN9v",
        "outputId": "a4c613a8-b55b-44b9-c752-50a68014e5fd",
        "colab": {
          "base_uri": "https://localhost:8080/"
        }
      },
      "outputs": [
        {
          "output_type": "stream",
          "name": "stdout",
          "text": [
            "x_train shape: (30596, 28, 28, 1)\n",
            "30596 train samples\n",
            "5139 test samples\n",
            "Epoch 1/5\n",
            "240/240 [==============================] - 2s 7ms/step - loss: 1.5602 - accuracy: 0.3392 - val_loss: 1.5280 - val_accuracy: 0.5188\n",
            "Epoch 2/5\n",
            "240/240 [==============================] - 1s 6ms/step - loss: 1.5147 - accuracy: 0.4284 - val_loss: 1.4798 - val_accuracy: 0.6225\n",
            "Epoch 3/5\n",
            "240/240 [==============================] - 2s 7ms/step - loss: 1.4727 - accuracy: 0.5020 - val_loss: 1.4320 - val_accuracy: 0.6929\n",
            "Epoch 4/5\n",
            "240/240 [==============================] - 1s 5ms/step - loss: 1.4279 - accuracy: 0.5709 - val_loss: 1.3846 - val_accuracy: 0.7472\n",
            "Epoch 5/5\n",
            "240/240 [==============================] - 1s 5ms/step - loss: 1.3869 - accuracy: 0.6151 - val_loss: 1.3391 - val_accuracy: 0.7881\n",
            "Training time: 0:00:10.964040\n",
            "Test score: 1.3390671014785767\n",
            "Test accuracy: 0.7880910634994507\n"
          ]
        }
      ],
      "source": [
        "train_model(model,\n",
        "            (x_train_lt5, y_train_lt5),\n",
        "            (x_test_lt5, y_test_lt5), num_classes)"
      ]
    },
    {
      "cell_type": "markdown",
      "metadata": {
        "id": "P_eeHb6RSN9v"
      },
      "source": [
        "Note that after a single epoch, we are already achieving results on classifying 0-4 that are comparable to those achieved on 5-9 after 5 full epochs.  This despite the fact the we are only \"fine-tuning\" the last layer of the network, and all the early layers have never seen what the digits 0-4 look like.\n",
        "\n",
        "Also, note that even though nearly all (590K/600K) of the *parameters* were trainable, the training time per epoch was still much reduced.  This is because the unfrozen part of the network was very shallow, making backpropagation faster."
      ]
    },
    {
      "cell_type": "markdown",
      "metadata": {
        "id": "Meo1RJCDSN9w"
      },
      "source": [
        "## Exercise\n",
        "### To do:\n",
        "- Now write code to reverse this training process.  That is, you will train on the digits 0-4, and then finetune only the last layers on the digits 5-9."
      ]
    },
    {
      "cell_type": "markdown",
      "source": [
        "Train model 0-4"
      ],
      "metadata": {
        "id": "P1JIOKllgvy9"
      }
    },
    {
      "cell_type": "code",
      "source": [
        "# un-Freeze only the\n",
        "for l in feature_layers:\n",
        "    l.trainable = True"
      ],
      "metadata": {
        "id": "pVwgypakiI2F"
      },
      "execution_count": 16,
      "outputs": []
    },
    {
      "cell_type": "code",
      "source": [
        "# We create our model by combining the two sets of layers as follows\n",
        "model2 = Sequential(feature_layers + classification_layers)"
      ],
      "metadata": {
        "id": "D9ZDsan9hyYW"
      },
      "execution_count": 17,
      "outputs": []
    },
    {
      "cell_type": "code",
      "source": [
        "# Let's take a look\n",
        "model2.summary()"
      ],
      "metadata": {
        "colab": {
          "base_uri": "https://localhost:8080/"
        },
        "id": "fl3mK2KJhgKB",
        "outputId": "d0174d7a-13da-46f8-b441-7742ffd8941a"
      },
      "execution_count": 18,
      "outputs": [
        {
          "output_type": "stream",
          "name": "stdout",
          "text": [
            "Model: \"sequential_1\"\n",
            "_________________________________________________________________\n",
            " Layer (type)                Output Shape              Param #   \n",
            "=================================================================\n",
            " conv2d (Conv2D)             (None, 26, 26, 32)        320       \n",
            "                                                                 \n",
            " activation (Activation)     (None, 26, 26, 32)        0         \n",
            "                                                                 \n",
            " conv2d_1 (Conv2D)           (None, 24, 24, 32)        9248      \n",
            "                                                                 \n",
            " activation_1 (Activation)   (None, 24, 24, 32)        0         \n",
            "                                                                 \n",
            " max_pooling2d (MaxPooling2  (None, 12, 12, 32)        0         \n",
            " D)                                                              \n",
            "                                                                 \n",
            " dropout (Dropout)           (None, 12, 12, 32)        0         \n",
            "                                                                 \n",
            " flatten (Flatten)           (None, 4608)              0         \n",
            "                                                                 \n",
            " dense (Dense)               (None, 128)               589952    \n",
            "                                                                 \n",
            " activation_2 (Activation)   (None, 128)               0         \n",
            "                                                                 \n",
            " dropout_1 (Dropout)         (None, 128)               0         \n",
            "                                                                 \n",
            " dense_1 (Dense)             (None, 5)                 645       \n",
            "                                                                 \n",
            " activation_3 (Activation)   (None, 5)                 0         \n",
            "                                                                 \n",
            "=================================================================\n",
            "Total params: 600165 (2.29 MB)\n",
            "Trainable params: 600165 (2.29 MB)\n",
            "Non-trainable params: 0 (0.00 Byte)\n",
            "_________________________________________________________________\n"
          ]
        }
      ]
    },
    {
      "cell_type": "code",
      "execution_count": 19,
      "metadata": {
        "collapsed": true,
        "id": "hSQGYJ6FSN9w",
        "colab": {
          "base_uri": "https://localhost:8080/"
        },
        "outputId": "bc7f7087-a2e6-4189-e3a4-3af9378ee213"
      },
      "outputs": [
        {
          "output_type": "stream",
          "name": "stdout",
          "text": [
            "x_train shape: (30596, 28, 28, 1)\n",
            "30596 train samples\n",
            "5139 test samples\n",
            "Epoch 1/5\n",
            "240/240 [==============================] - 3s 8ms/step - loss: 1.3385 - accuracy: 0.6669 - val_loss: 1.2798 - val_accuracy: 0.8221\n",
            "Epoch 2/5\n",
            "240/240 [==============================] - 2s 8ms/step - loss: 1.2812 - accuracy: 0.7067 - val_loss: 1.2125 - val_accuracy: 0.8494\n",
            "Epoch 3/5\n",
            "240/240 [==============================] - 2s 7ms/step - loss: 1.2188 - accuracy: 0.7397 - val_loss: 1.1380 - val_accuracy: 0.8698\n",
            "Epoch 4/5\n",
            "240/240 [==============================] - 2s 7ms/step - loss: 1.1463 - accuracy: 0.7717 - val_loss: 1.0564 - val_accuracy: 0.8860\n",
            "Epoch 5/5\n",
            "240/240 [==============================] - 2s 7ms/step - loss: 1.0710 - accuracy: 0.7940 - val_loss: 0.9704 - val_accuracy: 0.9013\n",
            "Training time: 0:00:10.346405\n",
            "Test score: 0.9703669548034668\n",
            "Test accuracy: 0.9013426899909973\n"
          ]
        }
      ],
      "source": [
        "# Now, let's train our model on the digits 0,1,2,3,4\n",
        "\n",
        "train_model(model2,\n",
        "            (x_train_lt5, y_train_lt5),\n",
        "            (x_test_lt5, y_test_lt5), num_classes)"
      ]
    },
    {
      "cell_type": "code",
      "source": [
        "# Freeze only the\n",
        "for l in feature_layers:\n",
        "    l.trainable = False"
      ],
      "metadata": {
        "id": "iLisrJ7gicUQ"
      },
      "execution_count": 20,
      "outputs": []
    },
    {
      "cell_type": "code",
      "source": [
        "model2.summary()"
      ],
      "metadata": {
        "colab": {
          "base_uri": "https://localhost:8080/"
        },
        "id": "virTYWj8iids",
        "outputId": "4d0498f6-8895-4063-a2e5-ff3ceea32bb0"
      },
      "execution_count": 21,
      "outputs": [
        {
          "output_type": "stream",
          "name": "stdout",
          "text": [
            "Model: \"sequential_1\"\n",
            "_________________________________________________________________\n",
            " Layer (type)                Output Shape              Param #   \n",
            "=================================================================\n",
            " conv2d (Conv2D)             (None, 26, 26, 32)        320       \n",
            "                                                                 \n",
            " activation (Activation)     (None, 26, 26, 32)        0         \n",
            "                                                                 \n",
            " conv2d_1 (Conv2D)           (None, 24, 24, 32)        9248      \n",
            "                                                                 \n",
            " activation_1 (Activation)   (None, 24, 24, 32)        0         \n",
            "                                                                 \n",
            " max_pooling2d (MaxPooling2  (None, 12, 12, 32)        0         \n",
            " D)                                                              \n",
            "                                                                 \n",
            " dropout (Dropout)           (None, 12, 12, 32)        0         \n",
            "                                                                 \n",
            " flatten (Flatten)           (None, 4608)              0         \n",
            "                                                                 \n",
            " dense (Dense)               (None, 128)               589952    \n",
            "                                                                 \n",
            " activation_2 (Activation)   (None, 128)               0         \n",
            "                                                                 \n",
            " dropout_1 (Dropout)         (None, 128)               0         \n",
            "                                                                 \n",
            " dense_1 (Dense)             (None, 5)                 645       \n",
            "                                                                 \n",
            " activation_3 (Activation)   (None, 5)                 0         \n",
            "                                                                 \n",
            "=================================================================\n",
            "Total params: 600165 (2.29 MB)\n",
            "Trainable params: 590597 (2.25 MB)\n",
            "Non-trainable params: 9568 (37.38 KB)\n",
            "_________________________________________________________________\n"
          ]
        }
      ]
    },
    {
      "cell_type": "code",
      "source": [
        "# Now, let's train our model on the digits 5,6,7,8,9\n",
        "\n",
        "train_model(model2,\n",
        "            (x_train_gte5, y_train_gte5),\n",
        "            (x_test_gte5, y_test_gte5), num_classes)"
      ],
      "metadata": {
        "colab": {
          "base_uri": "https://localhost:8080/"
        },
        "id": "_TFywz7ni9HT",
        "outputId": "8b87cbaa-2d22-44be-aaf6-87f3c1aa0da7"
      },
      "execution_count": 22,
      "outputs": [
        {
          "output_type": "stream",
          "name": "stdout",
          "text": [
            "x_train shape: (29404, 28, 28, 1)\n",
            "29404 train samples\n",
            "4861 test samples\n",
            "Epoch 1/5\n",
            "230/230 [==============================] - 2s 6ms/step - loss: 1.3980 - accuracy: 0.4559 - val_loss: 1.3291 - val_accuracy: 0.5676\n",
            "Epoch 2/5\n",
            "230/230 [==============================] - 1s 5ms/step - loss: 1.3460 - accuracy: 0.5036 - val_loss: 1.2748 - val_accuracy: 0.6237\n",
            "Epoch 3/5\n",
            "230/230 [==============================] - 1s 5ms/step - loss: 1.2983 - accuracy: 0.5446 - val_loss: 1.2247 - val_accuracy: 0.6733\n",
            "Epoch 4/5\n",
            "230/230 [==============================] - 2s 7ms/step - loss: 1.2544 - accuracy: 0.5789 - val_loss: 1.1780 - val_accuracy: 0.7079\n",
            "Epoch 5/5\n",
            "230/230 [==============================] - 1s 6ms/step - loss: 1.2114 - accuracy: 0.6168 - val_loss: 1.1343 - val_accuracy: 0.7387\n",
            "Training time: 0:00:07.608026\n",
            "Test score: 1.1342872381210327\n",
            "Test accuracy: 0.7387368679046631\n"
          ]
        }
      ]
    }
  ],
  "metadata": {
    "kernelspec": {
      "display_name": "Python 3",
      "name": "python3"
    },
    "language_info": {
      "codemirror_mode": {
        "name": "ipython",
        "version": 3
      },
      "file_extension": ".py",
      "mimetype": "text/x-python",
      "name": "python",
      "nbconvert_exporter": "python",
      "pygments_lexer": "ipython3",
      "version": "3.7.6"
    },
    "colab": {
      "provenance": [],
      "gpuType": "T4",
      "include_colab_link": true
    },
    "accelerator": "GPU"
  },
  "nbformat": 4,
  "nbformat_minor": 0
}